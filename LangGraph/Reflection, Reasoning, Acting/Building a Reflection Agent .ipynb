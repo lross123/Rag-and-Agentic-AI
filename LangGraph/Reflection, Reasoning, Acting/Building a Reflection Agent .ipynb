{
 "cells": [
  {
   "cell_type": "markdown",
   "metadata": {},
   "source": [
    "<p style=\"text-align:center\">\n",
    "    <a href=\"https://skills.network\" target=\"_blank\">\n",
    "    <img src=\"https://cf-courses-data.s3.us.cloud-object-storage.appdomain.cloud/assets/logos/SN_web_lightmode.png\" width=\"200\" alt=\"Skills Network Logo\"  />\n",
    "    </a>\n",
    "</p>\n"
   ]
  },
  {
   "cell_type": "markdown",
   "metadata": {},
   "source": [
    "# **Building a Reflection Agent with LangGraph**\n"
   ]
  },
  {
   "cell_type": "markdown",
   "metadata": {},
   "source": [
    "Estimated time needed: **45** minutes\n"
   ]
  },
  {
   "cell_type": "markdown",
   "metadata": {},
   "source": [
    "In this guided project, you'll learn to build Reflection agents using LangGraph, a powerful tool for creating self-improving AI systems. Reflection agents represent a significant advancement in AI capabilities - they can evaluate their own outputs, identify weaknesses, and iteratively improve through feedback loops. You'll start by understanding the concept of reflection in AI, then build a complete reflection agent that can generate content, evaluate its quality, and refine outputs through multiple iterations. Working with a LinkedIn post generator as your example, you'll implement a graph-based workflow that mimics human-like reflective thinking, enabling the agent to transform basic content into polished, engaging outputs. By the end of this project, you'll have hands-on experience creating AI systems that can think critically about their own work and continuously improve their performance.\n"
   ]
  },
  {
   "cell_type": "markdown",
   "metadata": {},
   "source": [
    "## __Table of Contents__\n",
    "\n",
    "<ol>\n",
    "    <li><a href=\"#Objectives\">Objectives</a></li>\n",
    "    <li>\n",
    "        <a href=\"#Setup\">Setup</a>\n",
    "        <ol>\n",
    "            <li><a href=\"#Installing-Required-Libraries\">Installing Required Libraries</a></li>\n",
    "        </ol>\n",
    "    </li>\n",
    "    <li>\n",
    "        <a href=\"#What-is-Reflection?\">What is Reflection?</a>\n",
    "    </li>\n",
    "    <li>\n",
    "        <a href=\"#Workflow-of-Reflection-Agent-in-LangGraph:\">Workflow of Reflection Agent in LangGraph</a>\n",
    "    </li>\n",
    "    <li>\n",
    "        <a href=\"#Building-an-Optimized-LinkedIn-Post-Generator-with-a-Reflection-Agent\">Building an Optimized LinkedIn Post Generator with a Reflection Agent</a>\n",
    "        <ol>\n",
    "            <li><a href=\"#Instantiating-the-Language-Model\">Instantiating the Language Model</a></li>\n",
    "            <li><a href=\"#Generation-Prompt-for-Posts\">Generation Prompt for Posts</a></li>\n",
    "            <li><a href=\"#Creating-the-Chain-for-LinkedIn-Post-Generation\">Creating the Chain for LinkedIn Post Generation</a></li>\n",
    "            <li><a href=\"#Reflection-Prompt-for-LinkedIn-Post-Critique\">Reflection Prompt for LinkedIn Post Critique</a></li>\n",
    "            <li><a href=\"#Creating-the-Reflect-Chain\">Creating the Reflect Chain</a></li>\n",
    "            <li><a href=\"#Defining-the-Agent-State-for-Reflection-Agent\">Defining the Agent State for Reflection Agent</a></li>\n",
    "            <li><a href=\"#Defining-the-Generation-and-Reflection--Node\">Defining the Generation and Reflection Node</a></li>\n",
    "            <li><a href=\"#Why-HumanMessage?\">Why HumanMessage?</a></li>\n",
    "            <li><a href=\"#Adding-the-Generate-Node-to-the-Graph\">Adding the Generate Node to the Graph</a></li>\n",
    "            <li><a href=\"#Adding-the-Reflect-Node-to-the-Graph\">Adding the Reflect Node to the Graph</a></li>\n",
    "            <li><a href=\"#Setting-the-Entry-Point-in-the-Graph\">Setting the Entry Point in the Graph</a></li>\n",
    "            <li><a href=\"#Adding-a-Router-Node-for-Decision-Making\">Adding a Router Node for Decision Making</a></li>\n",
    "            <li><a href=\"#Compiling-the-Workflow\">Compiling the Workflow</a></li>\n",
    "            <li><a href=\"#Defining-Inputs-for-the-Workflow\">Defining Inputs for the Workflow</a></li>\n",
    "            <li><a href=\"#Executing-the-Workflow\">Executing the Workflow</a></li>\n",
    "            <li><a href=\"#Plotting-the-Graph\">Plotting the Graph</a></li>\n",
    "        </ol>\n",
    "    </li>\n",
    "</ol>\n"
   ]
  },
  {
   "cell_type": "markdown",
   "metadata": {},
   "source": [
    "## Objectives\n",
    "\n",
    "After completing this lab you will be able to:\n",
    "\n",
    "- Build reflection-enabled AI agents using LangGraph's graph-based workflow structure\n",
    "- Implement a multi-step process that generates, evaluates, and refines AI-produced content\n",
    "- Design conversational workflows with message state management for improved context retention\n",
    "- Create conditional routing logic to control agent behavior and iteration processes\n",
    "- Apply reflection techniques to enhance the quality and accuracy of AI-generated content\n",
    "- Develop self-improving systems that can identify and address their own limitations\n"
   ]
  },
  {
   "cell_type": "markdown",
   "metadata": {},
   "source": [
    "----\n"
   ]
  },
  {
   "cell_type": "markdown",
   "metadata": {},
   "source": [
    "## Setup\n"
   ]
  },
  {
   "cell_type": "markdown",
   "metadata": {},
   "source": [
    "For this lab, we will be using the following libraries:\n",
    "\n",
    "*   [`langgraph`](https://python.langchain.com/docs/langgraph) for building state-based workflows and graphs for complex agent systems.\n",
    "*   [`langchain-ibm`](https://python.langchain.com/docs/integrations/llms/ibm_watsonx) for integrating with IBM's WatsonX foundation models.\n",
    "*   [`langchain`](https://python.langchain.com/docs/get_started/introduction) for building LLM-powered applications and workflows.\n",
    "*   [`langchain_community`](https://python.langchain.com/docs/integrations/providers/) for additional integrations with various tools and services.\n",
    "*   [`pygraphviz`](https://pygraphviz.github.io/) for visualizing and rendering graphs created with LangGraph.\n"
   ]
  },
  {
   "cell_type": "markdown",
   "metadata": {},
   "source": [
    "### Installing Required Libraries\n"
   ]
  },
  {
   "cell_type": "code",
   "execution_count": 1,
   "metadata": {},
   "outputs": [
    {
     "name": "stdout",
     "output_type": "stream",
     "text": [
      "Note: you may need to restart the kernel to use updated packages.\n",
      "Note: you may need to restart the kernel to use updated packages.\n",
      "Note: you may need to restart the kernel to use updated packages.\n",
      "Note: you may need to restart the kernel to use updated packages.\n",
      "Note: you may need to restart the kernel to use updated packages.\n"
     ]
    }
   ],
   "source": [
    "%pip install -q langgraph==0.3.31 \n",
    "%pip install -q langchain-ibm==0.3.10\n",
    "%pip install -q langchain==0.3.23\n",
    "%pip install -q langchain_community==0.3.21 \n",
    "%pip install -q pygraphviz==1.14"
   ]
  },
  {
   "cell_type": "code",
   "execution_count": 2,
   "metadata": {},
   "outputs": [],
   "source": [
    "from langchain_ibm import ChatWatsonx\n",
    "from langchain_core.messages import BaseMessage, HumanMessage\n",
    "from langgraph.graph import END, MessageGraph, StateGraph\n",
    "\n",
    "from typing import List, Sequence\n",
    "from langchain_core.prompts import ChatPromptTemplate, MessagesPlaceholder"
   ]
  },
  {
   "cell_type": "markdown",
   "metadata": {},
   "source": [
    "# API Disclaimer\n",
    "This lab uses LLMs provided by Watsonx.ai. This environment has been configured to allow LLM use without API keys so you can prompt them for **free (with limitations)**. With that in mind, if you wish to run this notebook **locally outside** of Skills Network's JupyterLab environment, you will have to configure your own API keys. Please note that using your own API keys means that you will incur personal charges.\n",
    "### Running Locally\n",
    "If you are running this lab locally, you will need to configure your own API keys. This lab uses the `ChatWatsonx` module from `langchain`. The local configuration is shown below with instructions to use your own **api_key**. **Replace all instances** with the completed module below throughout the lab.\n",
    "\n",
    "<p style='color: red'><b>DO NOT run the following cell if you aren't running locally, it will cause errors.</b>\n"
   ]
  },
  {
   "cell_type": "code",
   "execution_count": null,
   "metadata": {},
   "outputs": [],
   "source": [
    "# IGNORE IF YOU ARE NOT RUNNING LOCALLY\n",
    "from langchain_ibm import ChatWatsonx\n",
    "watsonx_llm = ChatWatsonx(\n",
    "    model_id=\"ibm/granite-3-2-8b-instruct\",\n",
    "    url=\"https://us-south.ml.cloud.ibm.com\",\n",
    "    project_id=\"your project id associated with the API key\",\n",
    "    api_key=\"your watsonx.ai api key here\",\n",
    ")"
   ]
  },
  {
   "cell_type": "markdown",
   "metadata": {},
   "source": [
    "# What is Reflection?\n",
    "Reflection is a prompting strategy aimed at enhancing the quality and accuracy of outputs generated by AI agents. It involves getting the agent to **pause, review, and critique** its own outputs before finalizing them. This iterative process helps in reducing errors and improving performance over time.\n",
    "\n",
    "For example, when an AI model generates code, it typically outputs the result instantly. However, just like human programmers, code needs to be tested and refined. Reflection ensures that the AI agent **evaluates the generated code, identifies potential errors, and iterates** to fix them. This mimics how developers write, test, debug, and optimize their work, resulting in more reliable outputs.\n",
    "\n",
    "A simple analogy is comparing it to having two systems:\n",
    "- **System 1** – Reactive and instinctive (quick initial responses).\n",
    "- **System 2** – Reflective and deliberate (carefully reviewing and refining outputs).\n",
    "\n",
    "Reflection agents encourage AI to function more like **System 2**, iterating over their work until the desired quality is achieved.\n"
   ]
  },
  {
   "cell_type": "markdown",
   "metadata": {},
   "source": [
    "## Workflow of Reflection Agent in LangGraph:\n",
    "\n",
    "1. **Generation Node: Generate Initial Output**\n",
    "   - The first step in the process is the **generation node**, which quickly produces an initial output based on the given prompt. This stage is all about generating a first draft without focusing too much on perfection. It acts like an instinctive response, providing a rough version of the output. For example, if the task is to write a LinkedIn post, the generation node would come up with a basic idea. This draft is then passed to the next step for evaluation.\n",
    "     \n",
    "<br>\n",
    "\n",
    "2. **Evaluation Node: Evaluate Output for Quality**\n",
    "   - After the initial output is generated, the **evaluation node** assesses its quality. This step is about checking if the output is good enough or if it needs improvement. The evaluation focuses on key aspects like whether the message is clear, engaging, and relevant. For instance, in the case of a LinkedIn post, the evaluation might decide if the post feels authentic, aligns with professional tone, or misses important context. If the output is deemed acceptable, it moves forward to the final step.\n",
    "\n",
    "<br>\n",
    "\n",
    "3. **Reflection Node: Critique and Refine**\n",
    "   - If the evaluation node determines that the output needs improvement, the **reflection node** steps in to refine the content. This step is more thoughtful and deliberate, where the system reflects on the output and looks for ways to improve it. The reflection node critiques the draft, suggests changes, and revises the content to make it more polished. It could involve enhancing tone, adding clarity, highlighting achievements, or making the post more engaging. The system keeps refining the output through this process until it reaches the desired quality level.\n",
    "     \n",
    "<br>\n",
    "\n",
    "4. **Final Output: Present Refined Result**\n",
    "   - Once the reflection node has done its job, the final output is produced. This is the result of the reflection and evaluation processes, where the initial draft has been refined and improved. The agent now presents the final version of the content — a polished, high-quality LinkedIn post ready for publishing. After this step, the process concludes, and the final response is delivered to the user.\n",
    "\n",
    "\n",
    "---\n",
    "\n",
    "**Example (LinkedIn Post Generation):**  \n",
    "Imagine asking an AI to write a LinkedIn post announcing a job promotion:  \n",
    "\n",
    "**Prompt:**  \n",
    "\"Write a LinkedIn post announcing my promotion to Engineering Manager.\"  \n",
    "\n",
    "**AI’s Initial Output (System 1):**  \n",
    "*\"Excited to share that I’ve been promoted to Engineering Manager!\"*  \n",
    "\n",
    "**Reflection Step:**  \n",
    "The AI reviews the post and asks:  \n",
    "*\"Does this post highlight leadership growth or express gratitude?\"*  \n",
    "\n",
    "**Refined Output (System 2):**  \n",
    "*\"I'm thrilled to share that I've been promoted to Engineering Manager at [Company]! Grateful for the mentorship, team collaboration, and opportunities that led to this moment. Looking forward to leading new initiatives and continuing to grow with this incredible team. #Leadership #CareerGrowth #EngineeringManager\"*\n",
    "\n",
    "---\n"
   ]
  },
  {
   "cell_type": "markdown",
   "metadata": {},
   "source": [
    "### **Building an Optimized LinkedIn Post Generator with a Reflection Agent**\n",
    "\n",
    "In this process, we aim to enhance the quality of AI-generated posts using a Reflection Agent. The idea is to allow the AI to generate a post and then critique its own output, refining the content iteratively based on feedback. This approach helps improve the engagement, relevance, and tone, ensuring a better final result.\n",
    "\n",
    "We will be building a system that includes a generation phase where the post is generated, followed by a reflection phase where the AI reviews and refines the output. This cycle ensures that the AI produces higher-quality content in the end.\n",
    "\n",
    "The following diagram illustrates the workflow of this system, showing the interaction between the generation and reflection nodes.\n"
   ]
  },
  {
   "cell_type": "markdown",
   "metadata": {},
   "source": [
    "<div style=\"text-align: center;\">\n",
    "  <img src=\"https://cf-courses-data.s3.us.cloud-object-storage.appdomain.cloud/Cbuc3z8N1_Ew2ESw199Slw/Workflow.png\" alt=\"Workflow\" style=\"width: 40%; height: 500px;\">\n",
    "</div>\n"
   ]
  },
  {
   "cell_type": "markdown",
   "metadata": {},
   "source": [
    "### **Instantiating the Language Model**\n",
    "\n",
    "This step initializes the **`ChatWatsonx`** language model, which will be used to generate responses based on the prompts.\n"
   ]
  },
  {
   "cell_type": "code",
   "execution_count": 3,
   "metadata": {},
   "outputs": [],
   "source": [
    "llm = ChatWatsonx(\n",
    "    model_id=\"ibm/granite-3-3-8b-instruct\",\n",
    "    url=\"https://us-south.ml.cloud.ibm.com\",\n",
    "    project_id=\"skills-network\"\n",
    ")"
   ]
  },
  {
   "cell_type": "markdown",
   "metadata": {},
   "source": [
    "### **Generation Prompt for Posts**\n",
    "\n",
    "In this section, we are creating a generation prompt for generating LinkedIn posts. The assistant is tasked with crafting high-quality post based on the user's input. Additionally, if the user provides feedback or critique, the assistant revises the post content accordingly.\n"
   ]
  },
  {
   "cell_type": "markdown",
   "metadata": {},
   "source": [
    "We are using **`ChatPromptTemplate`** from LangChain to structure the prompt. The prompt has two main parts:\n",
    "\n",
    "1. **System Message**:  \n",
    "   This provides instructions to the assistant about its role and task.  \n",
    "   Here, the assistant is framed as a **professional LinkedIn content assistant** who is expected to generate the best possible LinkedIn post based on the user's input.  \n",
    "   It also specifies that if the user provides feedback or critique, the assistant should revise the post to improve clarity, tone, or engagement.\n",
    "\n",
    "2. **MessagesPlaceholder**:  \n",
    "   This is used to inject the actual content or message that the post will be based on.  \n",
    "   The placeholder will be populated with the user’s request at runtime.\n"
   ]
  },
  {
   "cell_type": "code",
   "execution_count": 4,
   "metadata": {},
   "outputs": [],
   "source": [
    "generation_prompt = ChatPromptTemplate.from_messages(\n",
    "    [\n",
    "        (\n",
    "            \"system\",\n",
    "            \"You are a professional LinkedIn content assistant tasked with crafting engaging, insightful, and well-structured LinkedIn posts.\"\n",
    "            \" Generate the best LinkedIn post possible for the user's request.\"\n",
    "            \" If the user provides feedback or critique, respond with a refined version of your previous attempts, improving clarity, tone, or engagement as needed.\",\n",
    "        ),\n",
    "        MessagesPlaceholder(variable_name=\"messages\"),\n",
    "    ]\n",
    ")"
   ]
  },
  {
   "cell_type": "markdown",
   "metadata": {},
   "source": [
    "### **Creating the Chain for LinkedIn Post Generation**\n",
    "\n",
    "In this step, we are combining the **`generation_prompt`** with a language model (LLM) to form a complete chain that will allow the system to generate LinkedIn posts based on user input.\n",
    "\n",
    "The **`generate_chain`** links the **`generation_prompt`** with the **LLM** (Large Language Model), enabling the system to generate a professional LinkedIn post after processing the user's input through the prompt.\n",
    "\n",
    "- **`generation_prompt`**: This is the template that guides the model on how to generate the LinkedIn post, including the system message and the placeholder for the user's input.\n",
    "- **`llm`**: This is the language model that will take the prompt and produce the post based on the input provided.\n",
    "\n",
    "By using the pipe operator (`|`), we are chaining these components together so that the prompt flows seamlessly into the language model and the model generates the final LinkedIn post.\n"
   ]
  },
  {
   "cell_type": "code",
   "execution_count": 5,
   "metadata": {},
   "outputs": [],
   "source": [
    "generate_chain = generation_prompt | llm"
   ]
  },
  {
   "cell_type": "markdown",
   "metadata": {},
   "source": [
    "<br>\n",
    "\n",
    "### **Reflection Prompt for LinkedIn Post Critique**\n",
    "\n",
    "In this step, we define the **`reflection_prompt`**, which is a template used for generating critiques and recommendations to improve a user's LinkedIn post. This prompt guides the model to assess the quality of a LinkedIn post and provide structured, actionable feedback.\n",
    "\n",
    "- **`reflection_prompt`**: The system message here instructs the model to act as a professional LinkedIn content strategist. The model will evaluate the post based on factors like tone, structure, clarity, engagement potential, formatting, and relevance. It then generates feedback to help improve the post’s overall effectiveness and alignment with LinkedIn best practices.\n"
   ]
  },
  {
   "cell_type": "code",
   "execution_count": 6,
   "metadata": {},
   "outputs": [],
   "source": [
    "reflection_prompt = ChatPromptTemplate.from_messages([\n",
    "    (\n",
    "        \"system\",\n",
    "        \"\"\"You are a professional LinkedIn content strategist and thought leadership expert. Your task is to critically evaluate the given LinkedIn post and provide a comprehensive critique. Follow these guidelines:\n",
    "\n",
    "        1. Assess the post’s overall quality, professionalism, and alignment with LinkedIn best practices.\n",
    "        2. Evaluate the structure, tone, clarity, and readability of the post.\n",
    "        3. Analyze the post’s potential for engagement (likes, comments, shares) and its effectiveness in building professional credibility.\n",
    "        4. Consider the post’s relevance to the author’s industry, audience, or current trends.\n",
    "        5. Examine the use of formatting (e.g., line breaks, bullet points), hashtags, mentions, and media (if any).\n",
    "        6. Evaluate the effectiveness of any call-to-action or takeaway.\n",
    "\n",
    "        Provide a detailed critique that includes:\n",
    "        - A brief explanation of the post’s strengths and weaknesses.\n",
    "        - Specific areas that could be improved.\n",
    "        - Actionable suggestions for enhancing clarity, engagement, and professionalism.\n",
    "\n",
    "        Your critique will be used to improve the post in the next revision step, so ensure your feedback is thoughtful, constructive, and practical.\n",
    "        \"\"\"\n",
    "    ),\n",
    "    MessagesPlaceholder(variable_name=\"messages\")\n",
    "])"
   ]
  },
  {
   "cell_type": "markdown",
   "metadata": {},
   "source": [
    "### **Creating the Reflect Chain**\n",
    "The **`reflect_chain`** is created by combining the **`reflection_prompt`** with the language model (LLM). This chain allows the model to evaluate and provide feedback on the generated post.\n"
   ]
  },
  {
   "cell_type": "code",
   "execution_count": 7,
   "metadata": {},
   "outputs": [],
   "source": [
    "reflect_chain = reflection_prompt | llm"
   ]
  },
  {
   "cell_type": "markdown",
   "metadata": {},
   "source": [
    "### **Defining the Agent State for Reflection Agent**\n",
    "\n",
    "When building a conversational workflow from scratch, the **state** represents the evolving context of the conversation or task. It tracks the interactions between the user and the AI, growing dynamically as new messages are added. \n",
    "\n",
    "If we were to define the state manually, it would look like this:\n",
    "\n",
    "---\n",
    "\n",
    "#### **Manual State Definition**\n",
    "\n",
    "Using Python's `TypedDict`, we can define a state that holds a list of messages:\n",
    "\n",
    "```python\n",
    "from typing import List, Annotated, TypedDict\n",
    "from langchain.schema import HumanMessage, AIMessage, SystemMessage\n",
    "\n",
    "# Define State with TypedDict\n",
    "class AgentState(TypedDict):\n",
    "    messages: Annotated[List[HumanMessage | AIMessage | SystemMessage], \"add_messages\"]\n",
    "```\n",
    "\n",
    "In this setup:  \n",
    "- **`HumanMessage`**: Represents user inputs or prompts.  \n",
    "- **`AIMessage`**: Represents AI-generated responses.  \n",
    "- **`SystemMessage`**: Represents system-level instructions, such as refinement feedback or evaluation criteria.  \n",
    "- **`add_messages`**: Ensures new messages are appended to the list, preserving the context needed for iterative interactions.\n",
    "\n",
    "While this approach is flexible, it requires manual management of the state, including creating workflows and maintaining the message list.\n"
   ]
  },
  {
   "cell_type": "markdown",
   "metadata": {},
   "source": [
    "---\n",
    "#### **LangGraph's `MessageGraph`**\n",
    "\n",
    "Instead of manually defining and managing the state, **LangGraph** offers a **prebuilt solution** called `MessageGraph`. It abstracts the complexity of state management, making it easy to create and work with conversational workflows.\n",
    "\n",
    "**Features of `MessageGraph`:**  \n",
    "1. **Predefined State Management**: Handles the underlying state representation for you, similar to what was manually defined above.  \n",
    "2. **Ease of Integration**: Provides a seamless way to interact with LLMs by managing conversation states automatically.  \n",
    "3. **Workflow Simplification**: Streamlines the process of building workflows with less boilerplate code.  \n",
    "\n",
    "---\n"
   ]
  },
  {
   "cell_type": "markdown",
   "metadata": {},
   "source": [
    "#### **Initializing `MessageGraph`**\n",
    "\n",
    "To streamline workflow creation and state management, LangGraph provides a prebuilt solution called `MessageGraph`. This simplifies the process of setting up conversational workflows by handling the underlying structure automatically.\n"
   ]
  },
  {
   "cell_type": "code",
   "execution_count": 8,
   "metadata": {},
   "outputs": [],
   "source": [
    "from langgraph.graph import MessageGraph\n",
    "from typing import List, Annotated, TypedDict\n",
    "from langchain.schema import HumanMessage, AIMessage, SystemMessage\n",
    "\n",
    "# Initialize a predefined MessageGraph\n",
    "graph = MessageGraph()"
   ]
  },
  {
   "cell_type": "markdown",
   "metadata": {},
   "source": [
    "Behind the Scenes:\n",
    "\n",
    "- As the user interacts with the agent, **`HumanMessage`** is added to the state.  \n",
    "- The AI generates a response (**`AIMessage`**), which gets appended to the list.  \n",
    "- If the output needs improvement, a **`SystemMessage`** can trigger a reflection phase to refine the response.\n"
   ]
  },
  {
   "cell_type": "markdown",
   "metadata": {},
   "source": [
    "\n",
    "### **Defining the Generation and Reflection  Node**\n",
    "\n",
    "The `generation_node` function acts as the starting point in the Reflection Agent's workflow. It generates an initial output based on the current state of the conversation, which contains all previous messages (user inputs, AI responses, and system instructions). \n",
    "\n",
    "- **Input**: The function accepts the `state`, which is a sequence of `BaseMessage` objects (i.e., `HumanMessage`, `AIMessage`, `SystemMessage`). These messages provide the context necessary for generating a meaningful response.\n",
    "\n",
    "- **Output**: The function uses the `generate_chain` to produce an output by invoking the chain with the `state` as input. The `invoke` function triggers the execution of the chain, where the `messages` in the state guide the chain's generation process. The output is generated based on the context provided by these messages, ensuring that the response is appropriate to the current stage of the conversation or task.\n"
   ]
  },
  {
   "cell_type": "code",
   "execution_count": 9,
   "metadata": {},
   "outputs": [],
   "source": [
    "def generation_node(state: Sequence[BaseMessage]) -> List[BaseMessage]:\n",
    "    generated_post = generate_chain.invoke({\"messages\": state})\n",
    "    return [AIMessage(content=generated_post.content)]"
   ]
  },
  {
   "cell_type": "markdown",
   "metadata": {},
   "source": [
    "\n",
    "\n",
    "The `reflection_node` function plays a key role in improving the output generated in the `generation_node`. It critiques the original output and makes recommendations for refinement. The feedback mechanism helps enhance the final result, making it more in line with the desired outcome, whether that involves clarity, engagement, or tone adjustments.\n",
    "\n",
    "- **Input**: The function takes `messages`, which is a sequence of `BaseMessage` objects. This includes previous AI responses, user inputs, and system-level instructions. The messages are used to provide context to the reflection process, guiding the generation of a more refined output.\n",
    "  \n",
    "- **Output**: The function invokes `reflect_chain`, passing the `messages` as input to critique and improve the content. After receiving the refined output, it returns the result as a `HumanMessage` object.\n"
   ]
  },
  {
   "cell_type": "code",
   "execution_count": 10,
   "metadata": {},
   "outputs": [],
   "source": [
    "def reflection_node(messages: Sequence[BaseMessage]) -> List[BaseMessage]:\n",
    "    res = reflect_chain.invoke({\"messages\": messages})  # Passes messages as input to reflect_chain\n",
    "    return [HumanMessage(content=res.content)]  # Returns the refined message as HumanMessage for feedback"
   ]
  },
  {
   "cell_type": "markdown",
   "metadata": {},
   "source": [
    "<br>\n",
    "\n",
    "### **Why `HumanMessage`?**\n",
    "\n",
    "The output is wrapped in a `HumanMessage` because the reflection process is a form of feedback or critique given to the **generation agent**, and the feedback is intended to be treated as if it is coming from the user. This is important for the iterative process where the AI generates content and then receives human-like feedback to improve the output. In the context of this workflow, we treat the feedback as if a human is guiding the reflection agent to enhance its output.\n",
    "\n",
    "- **HumanMessage** here is not used to represent user input directly but rather to provide feedback (as if from a human perspective). This feedback is passed back into the system, enabling the generation agent to revise its content. \n",
    "- It effectively gives the reflection node the authority to \"speak\" to the generation node, but in the context of providing critique and recommendations for refinement.\n"
   ]
  },
  {
   "cell_type": "markdown",
   "metadata": {},
   "source": [
    "### **Adding the Generate Node to the Graph**\n",
    "\n",
    "Now we add the generation node to the graph using the `add_node` function. This function takes two parameters:  \n",
    "\n",
    "1. **Name**: A unique identifier for the node, in this case, `\"generate\"`.  \n",
    "2. **Function**: The function to be executed when this node is triggered, here `generation_node`.  \n"
   ]
  },
  {
   "cell_type": "code",
   "execution_count": 11,
   "metadata": {},
   "outputs": [
    {
     "data": {
      "text/plain": [
       "<langgraph.graph.message.MessageGraph at 0x70f4d96697f0>"
      ]
     },
     "execution_count": 11,
     "metadata": {},
     "output_type": "execute_result"
    }
   ],
   "source": [
    "graph.add_node(\"generate\", generation_node)"
   ]
  },
  {
   "cell_type": "markdown",
   "metadata": {},
   "source": [
    "We can summarize the process with the image: the generation prompt chains to the LLM using the generate chain. The generate node invokes this chain, storing the LLM's output in a sequence (list) of messages. The Graph object is created in red. Finally, add_node represents this as a blue node in the graph.\n"
   ]
  },
  {
   "cell_type": "markdown",
   "metadata": {},
   "source": [
    "\n",
    "\n",
    "![image](https://cf-courses-data.s3.us.cloud-object-storage.appdomain.cloud/eWlf-wNPOye4o_B0Ax-3mg/Generate.png)\n"
   ]
  },
  {
   "cell_type": "markdown",
   "metadata": {},
   "source": [
    "<br>\n",
    "\n",
    "### **Adding the Reflect Node to the Graph**\n",
    "\n",
    "We now add the reflection node to the graph using the `add_node` function. This function takes two parameters:  \n",
    "\n",
    "1. **Name**: A unique identifier for the node, in this case, `\"reflect\"`.  \n",
    "2. **Function**: The function to be executed when this node is triggered, here `reflection_node`.  \n",
    "\n",
    "This step integrates the `\"reflect\"` node into the graph, linking it to the `reflection_node` function. This node is responsible for providing feedback and suggestions for improving the generated content, enabling the reflection phase of the agent.\n"
   ]
  },
  {
   "cell_type": "code",
   "execution_count": 12,
   "metadata": {},
   "outputs": [
    {
     "data": {
      "text/plain": [
       "<langgraph.graph.message.MessageGraph at 0x70f4d96697f0>"
      ]
     },
     "execution_count": 12,
     "metadata": {},
     "output_type": "execute_result"
    }
   ],
   "source": [
    "graph.add_node(\"reflect\", reflection_node)"
   ]
  },
  {
   "cell_type": "markdown",
   "metadata": {},
   "source": [
    "Similarly, we represent the creation of the reflect node with an image where the reflect node `reflect_chain.invoke({\"messages\": messages})` maps its input to the sequence of inputs to the LLM and returns new HumanMessages in a list format. The Graph object is represented in Red. The add_node method adds this to the graph object represented as a green node.\n",
    "![reflect.png](https://cf-courses-data.s3.us.cloud-object-storage.appdomain.cloud/-nFI6IESRnfmlF2tgeWr3g/reflect.png)\n"
   ]
  },
  {
   "cell_type": "markdown",
   "metadata": {},
   "source": [
    "The method graph.add_edge(\"reflect\", \"generate\") method creates a one-way connection, as the drawing showns with a single arrow from the reflect node in green  to the generate node in blue. It's a simple direct path that tells the workflow \"after reflection is done, go back to generation\". Think of it like connecting two points in one direction - when you reach the end of the reflect node, there's only one place to go: back to generate. \n"
   ]
  },
  {
   "cell_type": "code",
   "execution_count": 13,
   "metadata": {},
   "outputs": [
    {
     "data": {
      "text/plain": [
       "<langgraph.graph.message.MessageGraph at 0x70f4d96697f0>"
      ]
     },
     "execution_count": 13,
     "metadata": {},
     "output_type": "execute_result"
    }
   ],
   "source": [
    "graph.add_edge(\"reflect\", \"generate\")\n"
   ]
  },
  {
   "cell_type": "markdown",
   "metadata": {},
   "source": [
    "!![Screenshot 2025-02-10 at 4.24.25 PM.png](https://cf-courses-data.s3.us.cloud-object-storage.appdomain.cloud/Z5jtZS3hNxh4jJROKeUa5Q/Screenshot%202025-02-10%20at%204-24-25%E2%80%AFPM.png)\n"
   ]
  },
  {
   "cell_type": "markdown",
   "metadata": {},
   "source": [
    "<br>\n",
    "\n",
    "### **Setting the Entry Point in the Graph**\n",
    "\n",
    "The `graph.set_entry_point(GENERATE)` specifies where the workflow begins in the agent's graph. By setting **`GENERATE`** as the entry point, the process starts with the generation node, which creates the initial response based on the provided state.\n"
   ]
  },
  {
   "cell_type": "code",
   "execution_count": 14,
   "metadata": {},
   "outputs": [
    {
     "data": {
      "text/plain": [
       "<langgraph.graph.message.MessageGraph at 0x70f4d96697f0>"
      ]
     },
     "execution_count": 14,
     "metadata": {},
     "output_type": "execute_result"
    }
   ],
   "source": [
    "graph.set_entry_point(\"generate\")"
   ]
  },
  {
   "cell_type": "markdown",
   "metadata": {},
   "source": [
    "We  can use the following image to clarify the process the entry point as a square node in the graph, distinguished by a red edge.\n",
    "![Screenshot 2025-02-10 at 4.24.36 PM.png](https://cf-courses-data.s3.us.cloud-object-storage.appdomain.cloud/addhElS0gs8pFgBRc_0gCw/Screenshot%202025-02-10%20at%204-24-36%E2%80%AFPM.png)\n"
   ]
  },
  {
   "cell_type": "markdown",
   "metadata": {},
   "source": [
    "<br>\n",
    "\n",
    "### **Adding a Router Node for Decision Making**\n",
    "\n",
    "The router node in the graph is responsible for determining whether the workflow should proceed to the reflection phase or terminate. This decision can be made in two ways:  \n",
    "\n",
    "1. **Predefined Logic**:  \n",
    "   A simple condition is used to check the number of messages in the state. If the number of messages exceeds 6 (`len(state) > 6`), the workflow ends. Otherwise, it continues to the reflection phase.  \n",
    "\n",
    "2. **LLM-Based Logic**:  \n",
    "   Instead of relying on predefined logic, we can integrate an LLM to evaluate the context of the messages and decide whether further reflection is necessary.  \n",
    "\n",
    "For now, we will implement the predefined logic of checking the message count. Later, we will enhance this functionality by incorporating an LLM to decide dynamically whether to proceed to the reflection phase or end the workflow.\n"
   ]
  },
  {
   "cell_type": "code",
   "execution_count": 15,
   "metadata": {},
   "outputs": [],
   "source": [
    "def should_continue(state: List[BaseMessage]):\n",
    "    print(state)\n",
    "    print(len(state))\n",
    "    print(\"----------------------------------------------------------------------\")\n",
    "    if len(state) > 6:\n",
    "        return END\n",
    "    return \"reflect\""
   ]
  },
  {
   "cell_type": "markdown",
   "metadata": {},
   "source": [
    "Since the LLM must decide whether to continue or end the process, we use the `add_conditional_edges` method to handle two possible paths: if the maximum iterations have not been reached, continue by sending messages from generate to reflect shown by the edge between the green and blue node; if the maximum is met, go to the end node (represented by a square).\n"
   ]
  },
  {
   "cell_type": "code",
   "execution_count": 16,
   "metadata": {},
   "outputs": [
    {
     "data": {
      "text/plain": [
       "<langgraph.graph.message.MessageGraph at 0x70f4d96697f0>"
      ]
     },
     "execution_count": 16,
     "metadata": {},
     "output_type": "execute_result"
    }
   ],
   "source": [
    "graph.add_conditional_edges(\"generate\", should_continue)"
   ]
  },
  {
   "cell_type": "markdown",
   "metadata": {},
   "source": [
    "![add_cond_node.png(1)](https://cf-courses-data.s3.us.cloud-object-storage.appdomain.cloud/cVhRRFclksKny2JQUAcTiA/add-cond-node.png)\n"
   ]
  },
  {
   "cell_type": "markdown",
   "metadata": {},
   "source": [
    "### **Compiling the Workflow**\n",
    "\n",
    "Now we compile the workflow using `graph.compile()`. This step ensures that all nodes, edges, and conditional logic defined in the graph are connected and ready for execution.  \n"
   ]
  },
  {
   "cell_type": "code",
   "execution_count": 17,
   "metadata": {},
   "outputs": [],
   "source": [
    "workflow = graph.compile()"
   ]
  },
  {
   "cell_type": "markdown",
   "metadata": {},
   "source": [
    "### **Defining Inputs for the Workflow**\n",
    "\n",
    "In this example, we define the initial user input as a `HumanMessage`. This message contains a request to improve a post related to LangChain's Tool Calling feature. The content provides the context for the workflow, which will process it and generate a refined output.\n"
   ]
  },
  {
   "cell_type": "code",
   "execution_count": 18,
   "metadata": {},
   "outputs": [],
   "source": [
    "inputs = HumanMessage(content=\"\"\"Write a linkedin post on getting a software developer job at IBM under 160 characters\"\"\")"
   ]
  },
  {
   "cell_type": "markdown",
   "metadata": {},
   "source": [
    "### **Executing the Workflow**\n",
    "\n",
    "Once the input has been defined, the workflow is executed using the `graph.invoke()` method. This processes the `inputs` through the workflow graph, starting from the entry point, and generates a response.\n"
   ]
  },
  {
   "cell_type": "code",
   "execution_count": 19,
   "metadata": {},
   "outputs": [
    {
     "name": "stdout",
     "output_type": "stream",
     "text": [
      "[HumanMessage(content='Write a linkedin post on getting a software developer job at IBM under 160 characters', additional_kwargs={}, response_metadata={}, id='eb352d47-cec5-4433-af4b-fbf1f66e1020'), AIMessage(content=\"🎉 Exited to announce! I've joined IBM as a Software Developer. Eager to contribute to innovative projects and grow alongside industry leaders. Let's create the future, together! #IBM #SoftwareDeveloper #Career Move #TechNews\", additional_kwargs={}, response_metadata={}, id='5804b058-d7d3-465c-b3ad-f5f36429b504')]\n",
      "2\n",
      "----------------------------------------------------------------------\n",
      "[HumanMessage(content='Write a linkedin post on getting a software developer job at IBM under 160 characters', additional_kwargs={}, response_metadata={}, id='eb352d47-cec5-4433-af4b-fbf1f66e1020'), AIMessage(content=\"🎉 Exited to announce! I've joined IBM as a Software Developer. Eager to contribute to innovative projects and grow alongside industry leaders. Let's create the future, together! #IBM #SoftwareDeveloper #Career Move #TechNews\", additional_kwargs={}, response_metadata={}, id='5804b058-d7d3-465c-b3ad-f5f36429b504'), HumanMessage(content='🚀 This post effectively communicates the author\\'s recent career move to IBM as a Software Developer. The concise, upbeat tone and clear message make it engaging and easy to read. The use of relevant hashtags is strong, improving visibility among the target audience.\\n\\nHowever, there\\'s room for improvement in several areas:\\n\\n1. Alignment with LinkedIn best practices: The post could benefit from a brief note on the author\\'s background or relevant skills that made them a suitable candidate for IBM. This addition enhances credibility and demonstrates expertise.\\n\\n2. Engagement potential: Including a question or invitation for advice could spark a conversation, increasing engagement rates. For instance, asking followers about their experiences with IBM or seeking tips for success in a similar role would encourage more interaction.\\n\\n3. Call-to-action: The current post lacks a clear call-to-action. Encourage readers to connect, visit a personal blog, or share their experiences to strengthen engagement and relationship-building.\\n\\nTo improve the post:\\n\\n1. Mention a key achievement, skill, or experience that helped secure the position, adding credibility and making the post more relatable to peers.\\n2. End the post with an invitation for readers to share their IBM experiences or advice for aspiring software developers.\\n3. Include a clear call-to-action, like \"Let\\'s connect\" or \"Share your IBM story in the comments below.\"\\n\\nRevised post (under 160 characters):\\n\\n🎉 Thrilled to join IBM\\'s Software Developer team! My background in [mention specific skill/project] made me a fit. How\\'s your IBM experience? Share your insights below! #IBM #SoftwareDeveloper #CareerMove\\n\\nThis revised post maintains the original\\'s strengths while addressing areas for improvement, enhancing credibility, engagement, and readability.', additional_kwargs={}, response_metadata={}, id='77a32ee9-552a-4d7c-884f-a040d6d6fea6'), AIMessage(content=\"🎉 Thrilled to join IBM's Software Developer team! My background in AI development and passion for problem-solving were pivotal. How's your IBM experience? Share your insights below! #IBM #SoftwareDeveloper #CareerMove #ArtificialIntelligence \\n\\nLet's connect and grow together! 🚀\", additional_kwargs={}, response_metadata={}, id='44a8705b-d75d-43a8-bd35-4ff8c1ce739f')]\n",
      "4\n",
      "----------------------------------------------------------------------\n",
      "[HumanMessage(content='Write a linkedin post on getting a software developer job at IBM under 160 characters', additional_kwargs={}, response_metadata={}, id='eb352d47-cec5-4433-af4b-fbf1f66e1020'), AIMessage(content=\"🎉 Exited to announce! I've joined IBM as a Software Developer. Eager to contribute to innovative projects and grow alongside industry leaders. Let's create the future, together! #IBM #SoftwareDeveloper #Career Move #TechNews\", additional_kwargs={}, response_metadata={}, id='5804b058-d7d3-465c-b3ad-f5f36429b504'), HumanMessage(content='🚀 This post effectively communicates the author\\'s recent career move to IBM as a Software Developer. The concise, upbeat tone and clear message make it engaging and easy to read. The use of relevant hashtags is strong, improving visibility among the target audience.\\n\\nHowever, there\\'s room for improvement in several areas:\\n\\n1. Alignment with LinkedIn best practices: The post could benefit from a brief note on the author\\'s background or relevant skills that made them a suitable candidate for IBM. This addition enhances credibility and demonstrates expertise.\\n\\n2. Engagement potential: Including a question or invitation for advice could spark a conversation, increasing engagement rates. For instance, asking followers about their experiences with IBM or seeking tips for success in a similar role would encourage more interaction.\\n\\n3. Call-to-action: The current post lacks a clear call-to-action. Encourage readers to connect, visit a personal blog, or share their experiences to strengthen engagement and relationship-building.\\n\\nTo improve the post:\\n\\n1. Mention a key achievement, skill, or experience that helped secure the position, adding credibility and making the post more relatable to peers.\\n2. End the post with an invitation for readers to share their IBM experiences or advice for aspiring software developers.\\n3. Include a clear call-to-action, like \"Let\\'s connect\" or \"Share your IBM story in the comments below.\"\\n\\nRevised post (under 160 characters):\\n\\n🎉 Thrilled to join IBM\\'s Software Developer team! My background in [mention specific skill/project] made me a fit. How\\'s your IBM experience? Share your insights below! #IBM #SoftwareDeveloper #CareerMove\\n\\nThis revised post maintains the original\\'s strengths while addressing areas for improvement, enhancing credibility, engagement, and readability.', additional_kwargs={}, response_metadata={}, id='77a32ee9-552a-4d7c-884f-a040d6d6fea6'), AIMessage(content=\"🎉 Thrilled to join IBM's Software Developer team! My background in AI development and passion for problem-solving were pivotal. How's your IBM experience? Share your insights below! #IBM #SoftwareDeveloper #CareerMove #ArtificialIntelligence \\n\\nLet's connect and grow together! 🚀\", additional_kwargs={}, response_metadata={}, id='44a8705b-d75d-43a8-bd35-4ff8c1ce739f'), HumanMessage(content='The revised LinkedIn post demonstrates significant improvement in several areas, including alignment with LinkedIn best practices, engagement potential, and a clear call-to-action:\\n\\n1. Alignment with LinkedIn best practices: By mentioning the author\\'s background in AI development and passion for problem-solving, the revised post enhances credibility and provides context for their newest role.\\n\\n2. Engagement potential: The inclusion of a question – \"How\\'s your IBM experience?\" – invites readers to share their insights, fostering conversation and boosting engagement.\\n\\n3. Call-to-action: The post now effectively prompts readers to connect with the author or share their IBM experiences in the comments, reinforcing relationship-building and widening the post\\'s reach.\\n\\nHowever, to further refine the post, consider these suggestions:\\n\\n1. Maintain brevity: Although the revised post is still under 160 characters, aim to keep it as concise as possible while maximizing impact. Remove unnecessary words without sacrificing key information.\\n\\n2. Prioritize hashtags: While the revised post includes relevant hashtags, prioritize those with the highest search volume and relevance to the target audience (e.g., #IBM #SoftwareDevelopment #TechCareer).\\n\\nRevised post (under 160 characters):\\n\\n🎉 Thrilled to join IBM\\'s Software Developer team! My AI background & problem-solving passion made the cut. How\\'s your IBM journey? #IBM #SoftwareDevelopment #TechCareer #ArtificialIntelligence \\n\\nLet\\'s connect & grow! 🚀\\n\\nThis updated version addresses the refining suggestions, offering a more concise, impactful post that effectively leverages LinkedIn best practices and engagement strategies.', additional_kwargs={}, response_metadata={}, id='a7e83ab0-7fa2-4ebc-be1a-d56a5d4f932c'), AIMessage(content=\"🎉 Thril⎪d to join IBM's Software Developer team! My AI expertise & problem-solving spirit sealed the deal. How's your IBM journey? #IBM #SoftwareDevelopment #TechCareer #AI \\n\\nLet's connect & collaborate! 🚀\", additional_kwargs={}, response_metadata={}, id='3a7d9aa8-9e86-426e-95c8-1d72536d9105')]\n",
      "6\n",
      "----------------------------------------------------------------------\n",
      "[HumanMessage(content='Write a linkedin post on getting a software developer job at IBM under 160 characters', additional_kwargs={}, response_metadata={}, id='eb352d47-cec5-4433-af4b-fbf1f66e1020'), AIMessage(content=\"🎉 Exited to announce! I've joined IBM as a Software Developer. Eager to contribute to innovative projects and grow alongside industry leaders. Let's create the future, together! #IBM #SoftwareDeveloper #Career Move #TechNews\", additional_kwargs={}, response_metadata={}, id='5804b058-d7d3-465c-b3ad-f5f36429b504'), HumanMessage(content='🚀 This post effectively communicates the author\\'s recent career move to IBM as a Software Developer. The concise, upbeat tone and clear message make it engaging and easy to read. The use of relevant hashtags is strong, improving visibility among the target audience.\\n\\nHowever, there\\'s room for improvement in several areas:\\n\\n1. Alignment with LinkedIn best practices: The post could benefit from a brief note on the author\\'s background or relevant skills that made them a suitable candidate for IBM. This addition enhances credibility and demonstrates expertise.\\n\\n2. Engagement potential: Including a question or invitation for advice could spark a conversation, increasing engagement rates. For instance, asking followers about their experiences with IBM or seeking tips for success in a similar role would encourage more interaction.\\n\\n3. Call-to-action: The current post lacks a clear call-to-action. Encourage readers to connect, visit a personal blog, or share their experiences to strengthen engagement and relationship-building.\\n\\nTo improve the post:\\n\\n1. Mention a key achievement, skill, or experience that helped secure the position, adding credibility and making the post more relatable to peers.\\n2. End the post with an invitation for readers to share their IBM experiences or advice for aspiring software developers.\\n3. Include a clear call-to-action, like \"Let\\'s connect\" or \"Share your IBM story in the comments below.\"\\n\\nRevised post (under 160 characters):\\n\\n🎉 Thrilled to join IBM\\'s Software Developer team! My background in [mention specific skill/project] made me a fit. How\\'s your IBM experience? Share your insights below! #IBM #SoftwareDeveloper #CareerMove\\n\\nThis revised post maintains the original\\'s strengths while addressing areas for improvement, enhancing credibility, engagement, and readability.', additional_kwargs={}, response_metadata={}, id='77a32ee9-552a-4d7c-884f-a040d6d6fea6'), AIMessage(content=\"🎉 Thrilled to join IBM's Software Developer team! My background in AI development and passion for problem-solving were pivotal. How's your IBM experience? Share your insights below! #IBM #SoftwareDeveloper #CareerMove #ArtificialIntelligence \\n\\nLet's connect and grow together! 🚀\", additional_kwargs={}, response_metadata={}, id='44a8705b-d75d-43a8-bd35-4ff8c1ce739f'), HumanMessage(content='The revised LinkedIn post demonstrates significant improvement in several areas, including alignment with LinkedIn best practices, engagement potential, and a clear call-to-action:\\n\\n1. Alignment with LinkedIn best practices: By mentioning the author\\'s background in AI development and passion for problem-solving, the revised post enhances credibility and provides context for their newest role.\\n\\n2. Engagement potential: The inclusion of a question – \"How\\'s your IBM experience?\" – invites readers to share their insights, fostering conversation and boosting engagement.\\n\\n3. Call-to-action: The post now effectively prompts readers to connect with the author or share their IBM experiences in the comments, reinforcing relationship-building and widening the post\\'s reach.\\n\\nHowever, to further refine the post, consider these suggestions:\\n\\n1. Maintain brevity: Although the revised post is still under 160 characters, aim to keep it as concise as possible while maximizing impact. Remove unnecessary words without sacrificing key information.\\n\\n2. Prioritize hashtags: While the revised post includes relevant hashtags, prioritize those with the highest search volume and relevance to the target audience (e.g., #IBM #SoftwareDevelopment #TechCareer).\\n\\nRevised post (under 160 characters):\\n\\n🎉 Thrilled to join IBM\\'s Software Developer team! My AI background & problem-solving passion made the cut. How\\'s your IBM journey? #IBM #SoftwareDevelopment #TechCareer #ArtificialIntelligence \\n\\nLet\\'s connect & grow! 🚀\\n\\nThis updated version addresses the refining suggestions, offering a more concise, impactful post that effectively leverages LinkedIn best practices and engagement strategies.', additional_kwargs={}, response_metadata={}, id='a7e83ab0-7fa2-4ebc-be1a-d56a5d4f932c'), AIMessage(content=\"🎉 Thril⎪d to join IBM's Software Developer team! My AI expertise & problem-solving spirit sealed the deal. How's your IBM journey? #IBM #SoftwareDevelopment #TechCareer #AI \\n\\nLet's connect & collaborate! 🚀\", additional_kwargs={}, response_metadata={}, id='3a7d9aa8-9e86-426e-95c8-1d72536d9105'), HumanMessage(content=\"🎉 Thrilled to join IBM's Software Developer team! My AI expertise and passion for problem-solving made the cut. How's your IBM journey? #IBM #SoftwareDevelopment #TechCareer #AI \\n\\nLet's connect & collaborate! 🚀\\n\\nThis final version maintains brevity, prioritizes high-impact hashtags, and includes an invitation for readers to connect, thus optimizing the post for both engagement and professional credibility. It adheres to LinkedIn best practices, conveys the author's background effectively, and incites conversation among the target audience.\", additional_kwargs={}, response_metadata={}, id='1952d275-196c-4a88-a55b-ffb20994c9f4'), AIMessage(content=\"Excellent job! The final post hits all the marks, efficiently conveying the author's exciting career move while engaging their network. It's concise, credible, and encourages meaningful interaction. Well done!\", additional_kwargs={}, response_metadata={}, id='d712499e-cdff-40f7-aaee-8cd01a1cbb2e')]\n",
      "8\n",
      "----------------------------------------------------------------------\n"
     ]
    }
   ],
   "source": [
    "response = workflow.invoke(inputs)"
   ]
  },
  {
   "cell_type": "markdown",
   "metadata": {},
   "source": [
    "Now, let's see the first generated LinkedIn without any critique.\n"
   ]
  },
  {
   "cell_type": "code",
   "execution_count": 20,
   "metadata": {},
   "outputs": [
    {
     "data": {
      "text/plain": [
       "\"🎉 Exited to announce! I've joined IBM as a Software Developer. Eager to contribute to innovative projects and grow alongside industry leaders. Let's create the future, together! #IBM #SoftwareDeveloper #Career Move #TechNews\""
      ]
     },
     "execution_count": 20,
     "metadata": {},
     "output_type": "execute_result"
    }
   ],
   "source": [
    "response[1].content"
   ]
  },
  {
   "cell_type": "markdown",
   "metadata": {},
   "source": [
    "Now, let's see the first critique for this generated post.\n"
   ]
  },
  {
   "cell_type": "code",
   "execution_count": 21,
   "metadata": {},
   "outputs": [
    {
     "data": {
      "text/plain": [
       "'🚀 This post effectively communicates the author\\'s recent career move to IBM as a Software Developer. The concise, upbeat tone and clear message make it engaging and easy to read. The use of relevant hashtags is strong, improving visibility among the target audience.\\n\\nHowever, there\\'s room for improvement in several areas:\\n\\n1. Alignment with LinkedIn best practices: The post could benefit from a brief note on the author\\'s background or relevant skills that made them a suitable candidate for IBM. This addition enhances credibility and demonstrates expertise.\\n\\n2. Engagement potential: Including a question or invitation for advice could spark a conversation, increasing engagement rates. For instance, asking followers about their experiences with IBM or seeking tips for success in a similar role would encourage more interaction.\\n\\n3. Call-to-action: The current post lacks a clear call-to-action. Encourage readers to connect, visit a personal blog, or share their experiences to strengthen engagement and relationship-building.\\n\\nTo improve the post:\\n\\n1. Mention a key achievement, skill, or experience that helped secure the position, adding credibility and making the post more relatable to peers.\\n2. End the post with an invitation for readers to share their IBM experiences or advice for aspiring software developers.\\n3. Include a clear call-to-action, like \"Let\\'s connect\" or \"Share your IBM story in the comments below.\"\\n\\nRevised post (under 160 characters):\\n\\n🎉 Thrilled to join IBM\\'s Software Developer team! My background in [mention specific skill/project] made me a fit. How\\'s your IBM experience? Share your insights below! #IBM #SoftwareDeveloper #CareerMove\\n\\nThis revised post maintains the original\\'s strengths while addressing areas for improvement, enhancing credibility, engagement, and readability.'"
      ]
     },
     "execution_count": 21,
     "metadata": {},
     "output_type": "execute_result"
    }
   ],
   "source": [
    "response[2].content"
   ]
  },
  {
   "cell_type": "markdown",
   "metadata": {},
   "source": [
    "---\n",
    "As we can see, this is the first critique of our generated post. It highlights both strengths and areas for improvement, offering specific suggestions to enhance engagement, relevance, and impact. Next, we’ll refine the post based on this feedback and generate an improved version.\n"
   ]
  },
  {
   "cell_type": "markdown",
   "metadata": {},
   "source": [
    "Now, let's see the final generated response after multiple iterations incorporating the feedback.\n"
   ]
  },
  {
   "cell_type": "code",
   "execution_count": 22,
   "metadata": {},
   "outputs": [
    {
     "data": {
      "text/plain": [
       "\"Excellent job! The final post hits all the marks, efficiently conveying the author's exciting career move while engaging their network. It's concise, credible, and encourages meaningful interaction. Well done!\""
      ]
     },
     "execution_count": 22,
     "metadata": {},
     "output_type": "execute_result"
    }
   ],
   "source": [
    "response[-1].content"
   ]
  },
  {
   "cell_type": "markdown",
   "metadata": {},
   "source": [
    "This table tracks the state transitions in a reflection agent's workflow. Each row represents a step in the process, showing how the state evolves from the initial user input through multiple iterations of generation and reflection. The table captures the iteration number, message type (Human/AI/System), current state, active node (Input/Generate/Reflect), and where the workflow goes next. After 3 iterations, reaching 6 total state changes, the workflow terminates at END.\n"
   ]
  },
  {
   "cell_type": "markdown",
   "metadata": {},
   "source": [
    "| Iteration | Type | State | Node | Next Action |\n",
    "|-----------|------|-------|------|-------------|\n",
    "| 1 | Human | Initial request | Input | Generate |\n",
    "| 1 | AI | Generated content | Generate | Reflect |\n",
    "| 1 | System | Reflection feedback | Reflect | Generate |\n",
    "| 2 | AI | Revised content | Generate | Reflect |\n",
    "| 2 | System | Refinement feedback | Reflect | Generate |\n",
    "| 3 | AI | Final content | Generate | END |\n"
   ]
  },
  {
   "cell_type": "markdown",
   "metadata": {},
   "source": [
    "---\n",
    "As we can see, the final LinkedIn post incorporates feedback by adding a compelling statistic, emphasizing urgency, and suggesting a relevant election topic. It also encourages engagement with a question and includes a visual element, making it more engaging and shareable.\n"
   ]
  },
  {
   "cell_type": "markdown",
   "metadata": {},
   "source": [
    "#### **Plotting the Graph**\n",
    "\n",
    "In this step, we are visualizing the workflow graph by rendering it as a PNG image. We are utilizing the `IPython.display` library to display the graph within the Jupyter notebook. The `workflow.get_graph()` function generates the graph, and `draw_png()` converts it to an image format, which is then displayed using the `Image` function.\n"
   ]
  },
  {
   "cell_type": "code",
   "execution_count": 23,
   "metadata": {},
   "outputs": [
    {
     "data": {
      "image/png": "[encoded data removed]",
      "text/plain": [
       "<IPython.core.display.Image object>"
      ]
     },
     "metadata": {},
     "output_type": "display_data"
    }
   ],
   "source": [
    "from IPython.display import Image, display\n",
    "\n",
    "display(Image(workflow.get_graph().draw_png()))"
   ]
  },
  {
   "cell_type": "markdown",
   "metadata": {},
   "source": [
    "## Authors\n"
   ]
  },
  {
   "cell_type": "markdown",
   "metadata": {},
   "source": [
    "[Kunal Makwana](https://author.skills.network/instructors/kunal_makwana) is a Data Scientist at IBM and is currently pursuing his Master's in Computer Science at Dalhousie University.\n"
   ]
  },
  {
   "cell_type": "markdown",
   "metadata": {},
   "source": [
    "### Other Contributors\n"
   ]
  },
  {
   "cell_type": "markdown",
   "metadata": {},
   "source": [
    "[Joseph Santarcangelo](https://author.skills.network/instructors/joseph_santarcangelo)\n"
   ]
  },
  {
   "cell_type": "markdown",
   "metadata": {},
   "source": [
    "[Karan Goswami](https://author.skills.network/instructors/karan_goswami) is a Data Scientist at IBM and is currently pursuing his Masters in Engineering at McMaster University.\n"
   ]
  },
  {
   "cell_type": "markdown",
   "metadata": {},
   "source": [
    "Copyright © 2025 IBM Corporation. All rights reserved.\n"
   ]
  }
 ],
 "metadata": {
  "kernelspec": {
   "display_name": "Python 3 (ipykernel)",
   "language": "python",
   "name": "python3"
  },
  "language_info": {
   "codemirror_mode": {
    "name": "ipython",
    "version": 3
   },
   "file_extension": ".py",
   "mimetype": "text/x-python",
   "name": "python",
   "nbconvert_exporter": "python",
   "pygments_lexer": "ipython3",
   "version": "3.12.8"
  },
  "prev_pub_hash": "1893c8e00bcf2d7b210b489875bf3855983e443d9e2ef23b5169ddfa7f2560a2"
 },
 "nbformat": 4,
 "nbformat_minor": 4
}
